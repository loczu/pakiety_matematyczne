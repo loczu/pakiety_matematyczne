{
 "metadata": {
  "language_info": {
   "codemirror_mode": {
    "name": "ipython",
    "version": 3
   },
   "file_extension": ".py",
   "mimetype": "text/x-python",
   "name": "python",
   "nbconvert_exporter": "python",
   "pygments_lexer": "ipython3",
   "version": 3
  },
  "orig_nbformat": 2
 },
 "nbformat": 4,
 "nbformat_minor": 2,
 "cells": [
  {
   "cell_type": "code",
   "execution_count": null,
   "metadata": {},
   "outputs": [],
   "source": [
    "function x_(time,x0, k,m,V0,a) \n",
    "    X=zeros(time,1) \n",
    "    X[1]=x0   #liczebność populacji w chwili 0, pierwszy el. tej tablicy to N0\n",
    "    Vx=zeros(time,1)\n",
    "    Vx[1]=V0*cos(a)\n",
    "    for t in 2:time\n",
    "        Vx[t]=Vx[t-1]-(k/m)*Vx[t-1]\n",
    "        X[t]=X[t-1]+Vx[t-1]-(1/2)*Vx[t-1]*(k/m)\n",
    "    end\n",
    "    return X\n",
    "end"
   ]
  }
 ]
}